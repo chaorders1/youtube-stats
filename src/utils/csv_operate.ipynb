{
 "cells": [
  {
   "cell_type": "markdown",
   "metadata": {},
   "source": [
    "## This script is used to clean the database. Do not run if you don't know what you are doing."
   ]
  },
  {
   "cell_type": "code",
   "execution_count": 14,
   "metadata": {},
   "outputs": [],
   "source": [
    "import pandas as pd\n",
    "from pathlib import Path"
   ]
  },
  {
   "cell_type": "code",
   "execution_count": 2,
   "metadata": {},
   "outputs": [],
   "source": [
    "# combine all the csv files in the folder into a new one. They have the same structure and columns.\n",
    "def combine_csv_files(folder_path: str, output_file: str) -> None:\n",
    "    \"\"\"\n",
    "    Combine all CSV files in a folder into a single CSV file.\n",
    "    Files must have the same structure and columns.\n",
    "    \n",
    "    Args:\n",
    "        folder_path (str): Path to folder containing CSV files\n",
    "        output_file (str): Path for the combined output CSV file\n",
    "    \"\"\"\n",
    "    # Get all CSV files in folder\n",
    "    folder = Path(folder_path)\n",
    "    csv_files = list(folder.glob('*.csv'))\n",
    "    \n",
    "    if not csv_files:\n",
    "        raise FileNotFoundError(f\"No CSV files found in {folder}\")\n",
    "        \n",
    "    # Read and combine all files\n",
    "    dfs = []\n",
    "    for file in csv_files:\n",
    "        df = pd.read_csv(file)\n",
    "        dfs.append(df)\n",
    "        \n",
    "    # Concatenate all dataframes\n",
    "    combined_df = pd.concat(dfs, ignore_index=True)\n",
    "    \n",
    "    # Save combined dataframe\n",
    "    combined_df.to_csv(output_file, index=False)\n",
    "    print(f\"Combined {len(csv_files)} files into {output_file}\")\n",
    "\n",
    "# Example usage\n",
    "# combine_csv_files(\"path/to/csv/folder\", \"path/to/output.csv\")\n",
    "\n"
   ]
  },
  {
   "cell_type": "code",
   "execution_count": 17,
   "metadata": {},
   "outputs": [
    {
     "ename": "NameError",
     "evalue": "name 'combine_csv_files' is not defined",
     "output_type": "error",
     "traceback": [
      "\u001b[0;31m---------------------------------------------------------------------------\u001b[0m",
      "\u001b[0;31mNameError\u001b[0m                                 Traceback (most recent call last)",
      "Cell \u001b[0;32mIn[17], line 1\u001b[0m\n\u001b[0;32m----> 1\u001b[0m \u001b[43mcombine_csv_files\u001b[49m(\u001b[38;5;124m\"\u001b[39m\u001b[38;5;124m/Users/yuanlu/Code/youtube-top-10000-channels/data/wait_to_combine\u001b[39m\u001b[38;5;124m\"\u001b[39m, \u001b[38;5;124m\"\u001b[39m\u001b[38;5;124moutput.csv\u001b[39m\u001b[38;5;124m\"\u001b[39m)\n",
      "\u001b[0;31mNameError\u001b[0m: name 'combine_csv_files' is not defined"
     ]
    }
   ],
   "source": [
    "combine_csv_files(\"/Users/yuanlu/Code/youtube-top-10000-channels/data/wait_to_combine\", \"output.csv\")"
   ]
  },
  {
   "cell_type": "code",
   "execution_count": 18,
   "metadata": {},
   "outputs": [
    {
     "name": "stderr",
     "output_type": "stream",
     "text": [
      "/var/folders/zr/hp5t3xpd16b9b_vjf10dd4nm0000gn/T/ipykernel_28838/2029434604.py:2: DtypeWarning: Columns (6) have mixed types. Specify dtype option on import or set low_memory=False.\n",
      "  df = pd.read_csv(\"/Users/yuanlu/Desktop/output.csv\")\n"
     ]
    },
    {
     "data": {
      "text/plain": [
       "(155976, 7)"
      ]
     },
     "execution_count": 18,
     "metadata": {},
     "output_type": "execute_result"
    }
   ],
   "source": [
    "#load /Users/yuanlu/Desktop/output.csv\n",
    "df = pd.read_csv(\"/Users/yuanlu/Desktop/output.csv\")\n",
    "df.head()\n",
    "df.shape\n"
   ]
  },
  {
   "cell_type": "code",
   "execution_count": 20,
   "metadata": {},
   "outputs": [
    {
     "data": {
      "text/plain": [
       "(148826, 7)"
      ]
     },
     "execution_count": 20,
     "metadata": {},
     "output_type": "execute_result"
    }
   ],
   "source": [
    "# delete all rows which is_valid column is False\n",
    "df = df[df['is_valid'] == True]\n",
    "df.head()\n",
    "df.shape"
   ]
  },
  {
   "cell_type": "code",
   "execution_count": 21,
   "metadata": {},
   "outputs": [
    {
     "data": {
      "text/plain": [
       "(148826, 4)"
      ]
     },
     "execution_count": 21,
     "metadata": {},
     "output_type": "execute_result"
    }
   ],
   "source": [
    "# delete column youtube_channel_url and is_valid and error\n",
    "df = df.drop(columns=['Youtube_Channel_URL', 'is_valid', 'error'])\n",
    "df.shape"
   ]
  },
  {
   "cell_type": "code",
   "execution_count": 22,
   "metadata": {},
   "outputs": [
    {
     "data": {
      "text/html": [
       "<div>\n",
       "<style scoped>\n",
       "    .dataframe tbody tr th:only-of-type {\n",
       "        vertical-align: middle;\n",
       "    }\n",
       "\n",
       "    .dataframe tbody tr th {\n",
       "        vertical-align: top;\n",
       "    }\n",
       "\n",
       "    .dataframe thead th {\n",
       "        text-align: right;\n",
       "    }\n",
       "</style>\n",
       "<table border=\"1\" class=\"dataframe\">\n",
       "  <thead>\n",
       "    <tr style=\"text-align: right;\">\n",
       "      <th></th>\n",
       "      <th>validated_url</th>\n",
       "      <th>channel_id</th>\n",
       "      <th>handle</th>\n",
       "      <th>subscribers</th>\n",
       "    </tr>\n",
       "  </thead>\n",
       "  <tbody>\n",
       "    <tr>\n",
       "      <th>0</th>\n",
       "      <td>https://www.youtube.com/channel/UCwlVi_yLZjvQd...</td>\n",
       "      <td>UCnNR3HRoNsKNY5X5v9-ymlw</td>\n",
       "      <td>@GravityPlayyy</td>\n",
       "      <td>11600000</td>\n",
       "    </tr>\n",
       "    <tr>\n",
       "      <th>1</th>\n",
       "      <td>https://www.youtube.com/channel/UCwlXvXQ-SjVfM...</td>\n",
       "      <td>UCwlXvXQ-SjVfMoCxhrIi7uw</td>\n",
       "      <td>@AlAinZooUAE</td>\n",
       "      <td>6660</td>\n",
       "    </tr>\n",
       "    <tr>\n",
       "      <th>2</th>\n",
       "      <td>https://www.youtube.com/channel/UCwlZeLR8Bglmd...</td>\n",
       "      <td>UCwlZeLR8Bglmdoloqujw3uA</td>\n",
       "      <td>@Easterntvsamaritan</td>\n",
       "      <td>214000</td>\n",
       "    </tr>\n",
       "    <tr>\n",
       "      <th>3</th>\n",
       "      <td>https://www.youtube.com/channel/UCwl__IB8WFt1W...</td>\n",
       "      <td>UCwl__IB8WFt1WkWNQRTxbvQ</td>\n",
       "      <td>@christianestolhofer6471</td>\n",
       "      <td>5</td>\n",
       "    </tr>\n",
       "    <tr>\n",
       "      <th>4</th>\n",
       "      <td>https://www.youtube.com/channel/UCwlbtOk54XI1C...</td>\n",
       "      <td>UCwlbtOk54XI1C9rf5TgajWA</td>\n",
       "      <td>@jaisharma8032</td>\n",
       "      <td>349000</td>\n",
       "    </tr>\n",
       "  </tbody>\n",
       "</table>\n",
       "</div>"
      ],
      "text/plain": [
       "                                       validated_url  \\\n",
       "0  https://www.youtube.com/channel/UCwlVi_yLZjvQd...   \n",
       "1  https://www.youtube.com/channel/UCwlXvXQ-SjVfM...   \n",
       "2  https://www.youtube.com/channel/UCwlZeLR8Bglmd...   \n",
       "3  https://www.youtube.com/channel/UCwl__IB8WFt1W...   \n",
       "4  https://www.youtube.com/channel/UCwlbtOk54XI1C...   \n",
       "\n",
       "                 channel_id                    handle  subscribers  \n",
       "0  UCnNR3HRoNsKNY5X5v9-ymlw            @GravityPlayyy     11600000  \n",
       "1  UCwlXvXQ-SjVfMoCxhrIi7uw              @AlAinZooUAE         6660  \n",
       "2  UCwlZeLR8Bglmdoloqujw3uA       @Easterntvsamaritan       214000  \n",
       "3  UCwl__IB8WFt1WkWNQRTxbvQ  @christianestolhofer6471            5  \n",
       "4  UCwlbtOk54XI1C9rf5TgajWA            @jaisharma8032       349000  "
      ]
     },
     "execution_count": 22,
     "metadata": {},
     "output_type": "execute_result"
    }
   ],
   "source": [
    "# Convert subscribers to int, handling M (millions) and K (thousands) with decimals\n",
    "def convert_subscribers(value):\n",
    "    try:\n",
    "        if isinstance(value, (int, float)):\n",
    "            return int(value)\n",
    "        if 'M' in str(value):\n",
    "            return int(float(str(value).replace('M', '')) * 1000000)\n",
    "        elif 'K' in str(value):\n",
    "            return int(float(str(value).replace('K', '')) * 1000)\n",
    "        else:\n",
    "            return int(float(value))\n",
    "    except (ValueError, TypeError):\n",
    "        return 0\n",
    "\n",
    "df['subscribers'] = df['subscribers'].apply(convert_subscribers)\n",
    "df.head()"
   ]
  },
  {
   "cell_type": "code",
   "execution_count": 23,
   "metadata": {},
   "outputs": [
    {
     "data": {
      "text/plain": [
       "(148826, 4)"
      ]
     },
     "execution_count": 23,
     "metadata": {},
     "output_type": "execute_result"
    }
   ],
   "source": [
    "# rank the dataframe by subscribers in descending order\n",
    "df = df.sort_values(by='subscribers', ascending=False)\n",
    "df.shape"
   ]
  },
  {
   "cell_type": "code",
   "execution_count": 24,
   "metadata": {},
   "outputs": [],
   "source": [
    "#save df to csv\n",
    "df.to_csv(\"cleaned_data.csv\", index=False)"
   ]
  },
  {
   "cell_type": "code",
   "execution_count": 25,
   "metadata": {},
   "outputs": [
    {
     "data": {
      "text/plain": [
       "(148826, 4)"
      ]
     },
     "execution_count": 25,
     "metadata": {},
     "output_type": "execute_result"
    }
   ],
   "source": [
    "# load cleaned_data.csv\n",
    "df = pd.read_csv(\"cleaned_data.csv\")\n",
    "df.head()\n",
    "df.shape"
   ]
  },
  {
   "cell_type": "code",
   "execution_count": 26,
   "metadata": {},
   "outputs": [
    {
     "data": {
      "image/png": "[encoded data removed]",
      "text/plain": [
       "<Figure size 640x480 with 1 Axes>"
      ]
     },
     "metadata": {},
     "output_type": "display_data"
    }
   ],
   "source": [
    "# analyze the subscribers distribution\n",
    "df['subscribers'].describe()\n",
    "# plot the subscribers distribution\n",
    "import matplotlib.pyplot as plt\n",
    "plt.hist(df['subscribers'], bins=100)\n",
    "plt.show()"
   ]
  },
  {
   "cell_type": "code",
   "execution_count": 28,
   "metadata": {},
   "outputs": [
    {
     "data": {
      "text/plain": [
       "88371"
      ]
     },
     "execution_count": 28,
     "metadata": {},
     "output_type": "execute_result"
    }
   ],
   "source": [
    "df[df['subscribers'] > 10000].shape[0]"
   ]
  },
  {
   "cell_type": "code",
   "execution_count": 29,
   "metadata": {},
   "outputs": [
    {
     "data": {
      "text/plain": [
       "60356"
      ]
     },
     "execution_count": 29,
     "metadata": {},
     "output_type": "execute_result"
    }
   ],
   "source": [
    "df[df['subscribers'] < 10000].shape[0]"
   ]
  },
  {
   "cell_type": "code",
   "execution_count": 31,
   "metadata": {},
   "outputs": [],
   "source": [
    "#only leave the channels with more than 10000 subscribers\n",
    "df = df[df['subscribers'] > 10000]\n",
    "df.shape\n",
    "#save df to csv\n",
    "df.to_csv(\"cleaned_data_more_than_10000.csv\", index=False)"
   ]
  },
  {
   "cell_type": "code",
   "execution_count": 32,
   "metadata": {},
   "outputs": [
    {
     "data": {
      "text/plain": [
       "(88371, 4)"
      ]
     },
     "execution_count": 32,
     "metadata": {},
     "output_type": "execute_result"
    }
   ],
   "source": [
    "#load /Users/yuanlu/Desktop/output.csv\n",
    "df = pd.read_csv(\"/Users/yuanlu/Code/youtube-top-10000-channels/src/utils/cleaned_data_more_than_10000.csv\")\n",
    "df.head()\n",
    "df.shape"
   ]
  },
  {
   "cell_type": "code",
   "execution_count": 33,
   "metadata": {},
   "outputs": [],
   "source": [
    "# for the column validated_url, at the end of the url, let's add /videos\n",
    "df['validated_url'] = df['validated_url'] + '/videos'\n",
    "df.head()\n",
    "#save df to csv\n",
    "df.to_csv(\"cleaned_data_more_than_10000_with_videos.csv\", index=False)"
   ]
  },
  {
   "cell_type": "code",
   "execution_count": 34,
   "metadata": {},
   "outputs": [],
   "source": [
    "# split a csv file into multiple files with a given number of rows\n",
    "def split_csv_file(file_path: str, num_rows: int) -> None:\n",
    "    df = pd.read_csv(file_path)\n",
    "    for i in range(0, len(df), num_rows):\n",
    "        df[i:i+num_rows].to_csv(f\"split_{i//num_rows}.csv\", index=False)"
   ]
  },
  {
   "cell_type": "code",
   "execution_count": 35,
   "metadata": {},
   "outputs": [],
   "source": [
    "# Example usage\n",
    "split_csv_file(\"/Users/yuanlu/Code/youtube-top-10000-channels/src/utils/cleaned_data_more_than_10000_with_videos.csv\", 29500)"
   ]
  }
 ],
 "metadata": {
  "kernelspec": {
   "display_name": "omega",
   "language": "python",
   "name": "python3"
  },
  "language_info": {
   "codemirror_mode": {
    "name": "ipython",
    "version": 3
   },
   "file_extension": ".py",
   "mimetype": "text/x-python",
   "name": "python",
   "nbconvert_exporter": "python",
   "pygments_lexer": "ipython3",
   "version": "3.12.4"
  }
 },
 "nbformat": 4,
 "nbformat_minor": 2
}
