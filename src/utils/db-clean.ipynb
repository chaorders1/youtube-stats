{
 "cells": [
  {
   "cell_type": "markdown",
   "metadata": {},
   "source": [
    "## This script is used to clean the database. Do not run if you don't know what you are doing."
   ]
  },
  {
   "cell_type": "code",
   "execution_count": 43,
   "metadata": {},
   "outputs": [
    {
     "name": "stdout",
     "output_type": "stream",
     "text": [
      "Tables in database:\n",
      "- combined_data\n"
     ]
    }
   ],
   "source": [
    "import sqlite3\n",
    "import pandas as pd\n",
    "\n",
    "# Connect to the database\n",
    "db_path = '/Users/yuanlu/Code/test/youtube-top-10000-channels/data/output-raw-1129.db'\n",
    "conn = sqlite3.connect(db_path)\n",
    "\n",
    "# Print tables in database\n",
    "cursor = conn.cursor()\n",
    "cursor.execute(\"SELECT name FROM sqlite_master WHERE type='table';\")\n",
    "tables = cursor.fetchall()\n",
    "print(\"Tables in database:\")\n",
    "for table in tables:\n",
    "    print(f\"- {table[0]}\")\n"
   ]
  },
  {
   "cell_type": "code",
   "execution_count": 46,
   "metadata": {},
   "outputs": [
    {
     "name": "stdout",
     "output_type": "stream",
     "text": [
      "Column names in combined_data table: ['Rank', 'Channel_Handle', 'Channel_ID', 'Subscribers', 'YouTube_Channel_URL', 'source_file']\n"
     ]
    }
   ],
   "source": [
    "# get column names of combined_data table\n",
    "cursor.execute(\"PRAGMA table_info(combined_data)\")\n",
    "column_names = [row[1] for row in cursor.fetchall()]\n",
    "print(f\"Column names in combined_data table: {column_names}\")\n"
   ]
  },
  {
   "cell_type": "code",
   "execution_count": 47,
   "metadata": {},
   "outputs": [
    {
     "name": "stdout",
     "output_type": "stream",
     "text": [
      "Size of combined_data table: 3,759,805 rows\n"
     ]
    }
   ],
   "source": [
    "# Get size of combined_data table\n",
    "cursor.execute(\"SELECT COUNT(*) FROM combined_data\")\n",
    "row_count = cursor.fetchone()[0]\n",
    "print(f\"Size of combined_data table: {row_count:,} rows\")\n"
   ]
  },
  {
   "cell_type": "code",
   "execution_count": 48,
   "metadata": {},
   "outputs": [
    {
     "name": "stdout",
     "output_type": "stream",
     "text": [
      "Number of unique youtube_channel_urls: 121980\n"
     ]
    }
   ],
   "source": [
    "cursor.execute(\"SELECT COUNT(DISTINCT youtube_channel_url) FROM combined_data\")\n",
    "unique_count = cursor.fetchone()[0]\n",
    "print(f\"Number of unique youtube_channel_urls: {unique_count}\")"
   ]
  },
  {
   "cell_type": "code",
   "execution_count": 49,
   "metadata": {},
   "outputs": [
    {
     "name": "stdout",
     "output_type": "stream",
     "text": [
      "Percentage of unique youtube_channel_urls: 3.24%\n"
     ]
    }
   ],
   "source": [
    "# Percentage of unique youtube_channel_urls\n",
    "print(f\"Percentage of unique youtube_channel_urls: {unique_count / row_count * 100:.2f}%\")\n"
   ]
  },
  {
   "cell_type": "code",
   "execution_count": 50,
   "metadata": {},
   "outputs": [],
   "source": [
    "# Drop the unique_youtube_channel_urls table if it exists\n",
    "with sqlite3.connect(db_path) as conn:\n",
    "    cursor = conn.cursor()\n",
    "    cursor.execute(\"DROP TABLE IF EXISTS unique_youtube_channel_urls\")\n",
    "    conn.commit()"
   ]
  },
  {
   "cell_type": "code",
   "execution_count": 51,
   "metadata": {},
   "outputs": [],
   "source": [
    "# Create a new table with unique youtube_channel_urls, it should have the same columns as combined_data. Make sure youtube_channel_url is unique.\n",
    "with sqlite3.connect(db_path) as conn:\n",
    "    cursor = conn.cursor()\n",
    "    cursor.execute(\"\"\"\n",
    "        CREATE TABLE unique_youtube_channel_urls AS \n",
    "        SELECT *\n",
    "        FROM combined_data\n",
    "        GROUP BY youtube_channel_url\n",
    "    \"\"\")\n",
    "    conn.commit()"
   ]
  },
  {
   "cell_type": "code",
   "execution_count": 53,
   "metadata": {},
   "outputs": [],
   "source": [
    "# drop combined_data table\n",
    "with sqlite3.connect(db_path) as conn:\n",
    "    cursor = conn.cursor()\n",
    "    cursor.execute(\"DROP TABLE IF EXISTS combined_data\")\n",
    "    conn.commit()"
   ]
  }
 ],
 "metadata": {
  "kernelspec": {
   "display_name": "omega",
   "language": "python",
   "name": "python3"
  },
  "language_info": {
   "codemirror_mode": {
    "name": "ipython",
    "version": 3
   },
   "file_extension": ".py",
   "mimetype": "text/x-python",
   "name": "python",
   "nbconvert_exporter": "python",
   "pygments_lexer": "ipython3",
   "version": "3.12.4"
  }
 },
 "nbformat": 4,
 "nbformat_minor": 2
}
