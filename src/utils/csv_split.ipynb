{
 "cells": [
  {
   "cell_type": "code",
   "execution_count": 1,
   "metadata": {},
   "outputs": [
    {
     "name": "stdout",
     "output_type": "stream",
     "text": [
      "Split into 4 files:\n",
      "- youtube_channel_urls_web_part1.csv\n",
      "- youtube_channel_urls_web_part2.csv\n",
      "- youtube_channel_urls_web_part3.csv\n",
      "- youtube_channel_urls_web_part4.csv\n"
     ]
    }
   ],
   "source": [
    "import pandas as pd\n",
    "from pathlib import Path\n",
    "\n",
    "class CSVSplitter:\n",
    "    \"\"\"\n",
    "    A class to split large CSV files into smaller chunks while preserving headers.\n",
    "    \"\"\"\n",
    "    \n",
    "    def __init__(self, input_file: str, chunk_size: int = 10000):\n",
    "        \"\"\"\n",
    "        Initialize the CSV splitter.\n",
    "        \n",
    "        Args:\n",
    "            input_file (str): Path to the input CSV file\n",
    "            chunk_size (int): Number of rows per output file (excluding header)\n",
    "        \"\"\"\n",
    "        self.input_file = Path(input_file)\n",
    "        self.chunk_size = chunk_size\n",
    "        \n",
    "        if not self.input_file.exists():\n",
    "            raise FileNotFoundError(f\"Input file not found: {self.input_file}\")\n",
    "            \n",
    "    def split(self) -> list[Path]:\n",
    "        \"\"\"\n",
    "        Split the CSV file into chunks.\n",
    "        \n",
    "        Returns:\n",
    "            list[Path]: List of paths to the generated chunk files\n",
    "        \"\"\"\n",
    "        # Read CSV in chunks\n",
    "        chunk_paths = []\n",
    "        for i, chunk in enumerate(pd.read_csv(self.input_file, chunksize=self.chunk_size)):\n",
    "            # Generate output filename\n",
    "            output_path = self.input_file.parent / f\"{self.input_file.stem}_part{i+1}{self.input_file.suffix}\"\n",
    "            \n",
    "            # Save chunk with header\n",
    "            chunk.to_csv(output_path, index=False)\n",
    "            chunk_paths.append(output_path)\n",
    "            \n",
    "        return chunk_paths\n",
    "\n",
    "# Example usage\n",
    "splitter = CSVSplitter(\"youtube_channel_urls_web.csv\", chunk_size=50000)\n",
    "output_files = splitter.split()\n",
    "print(f\"Split into {len(output_files)} files:\")\n",
    "for f in output_files:\n",
    "    print(f\"- {f}\")\n",
    "\n"
   ]
  }
 ],
 "metadata": {
  "kernelspec": {
   "display_name": "omega",
   "language": "python",
   "name": "python3"
  },
  "language_info": {
   "codemirror_mode": {
    "name": "ipython",
    "version": 3
   },
   "file_extension": ".py",
   "mimetype": "text/x-python",
   "name": "python",
   "nbconvert_exporter": "python",
   "pygments_lexer": "ipython3",
   "version": "3.12.4"
  }
 },
 "nbformat": 4,
 "nbformat_minor": 2
}
