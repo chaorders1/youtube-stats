{
 "cells": [
  {
   "cell_type": "markdown",
   "metadata": {},
   "source": [
    "## This script is used to clean the database. Do not run if you don't know what you are doing."
   ]
  },
  {
   "cell_type": "code",
   "execution_count": 1,
   "metadata": {},
   "outputs": [],
   "source": [
    "import pandas as pd\n",
    "from pathlib import Path"
   ]
  },
  {
   "cell_type": "code",
   "execution_count": 2,
   "metadata": {},
   "outputs": [],
   "source": [
    "# combine all the csv files in the folder into a new one. They have the same structure and columns.\n",
    "def combine_csv_files(folder_path: str, output_file: str) -> None:\n",
    "    \"\"\"\n",
    "    Combine all CSV files in a folder into a single CSV file.\n",
    "    Files must have the same structure and columns.\n",
    "    \n",
    "    Args:\n",
    "        folder_path (str): Path to folder containing CSV files\n",
    "        output_file (str): Path for the combined output CSV file\n",
    "    \"\"\"\n",
    "    # Get all CSV files in folder\n",
    "    folder = Path(folder_path)\n",
    "    csv_files = list(folder.glob('*.csv'))\n",
    "    \n",
    "    if not csv_files:\n",
    "        raise FileNotFoundError(f\"No CSV files found in {folder}\")\n",
    "        \n",
    "    # Read and combine all files\n",
    "    dfs = []\n",
    "    for file in csv_files:\n",
    "        df = pd.read_csv(file)\n",
    "        dfs.append(df)\n",
    "        \n",
    "    # Concatenate all dataframes\n",
    "    combined_df = pd.concat(dfs, ignore_index=True)\n",
    "    \n",
    "    # Save combined dataframe\n",
    "    combined_df.to_csv(output_file, index=False)\n",
    "    print(f\"Combined {len(csv_files)} files into {output_file}\")\n",
    "\n",
    "# Example usage\n",
    "# combine_csv_files(\"path/to/csv/folder\", \"path/to/output.csv\")\n",
    "\n"
   ]
  },
  {
   "cell_type": "code",
   "execution_count": 3,
   "metadata": {},
   "outputs": [
    {
     "name": "stdout",
     "output_type": "stream",
     "text": [
      "Combined 3 files into output.csv\n"
     ]
    }
   ],
   "source": [
    "combine_csv_files(\"/Users/yuanlu/Code/youtube-top-10000-channels/data/wait_to_combine\", \"output.csv\")"
   ]
  },
  {
   "cell_type": "code",
   "execution_count": 34,
   "metadata": {},
   "outputs": [
    {
     "name": "stdout",
     "output_type": "stream",
     "text": [
      "Split into 2 files:\n",
      "- /Users/yuanlu/Code/youtube-top-10000-channels/data/wait_to_combine/handle_empty_wait_to_check_part1.csv\n",
      "- /Users/yuanlu/Code/youtube-top-10000-channels/data/wait_to_combine/handle_empty_wait_to_check_part2.csv\n"
     ]
    }
   ],
   "source": [
    "\n",
    "\n",
    "class CSVSplitter:\n",
    "    \"\"\"\n",
    "    A class to split large CSV files into smaller chunks while preserving headers.\n",
    "    \"\"\"\n",
    "    \n",
    "    def __init__(self, input_file: str, chunk_size: int = 10000):\n",
    "        \"\"\"\n",
    "        Initialize the CSV splitter.\n",
    "        \n",
    "        Args:\n",
    "            input_file (str): Path to the input CSV file\n",
    "            chunk_size (int): Number of rows per output file (excluding header)\n",
    "        \"\"\"\n",
    "        self.input_file = Path(input_file)\n",
    "        self.chunk_size = chunk_size\n",
    "        \n",
    "        if not self.input_file.exists():\n",
    "            raise FileNotFoundError(f\"Input file not found: {self.input_file}\")\n",
    "            \n",
    "    def split(self) -> list[Path]:\n",
    "        \"\"\"\n",
    "        Split the CSV file into chunks.\n",
    "        \n",
    "        Returns:\n",
    "            list[Path]: List of paths to the generated chunk files\n",
    "        \"\"\"\n",
    "        # Read CSV in chunks\n",
    "        chunk_paths = []\n",
    "        for i, chunk in enumerate(pd.read_csv(self.input_file, chunksize=self.chunk_size)):\n",
    "            # Generate output filename\n",
    "            output_path = self.input_file.parent / f\"{self.input_file.stem}_part{i+1}{self.input_file.suffix}\"\n",
    "            \n",
    "            # Save chunk with header\n",
    "            chunk.to_csv(output_path, index=False)\n",
    "            chunk_paths.append(output_path)\n",
    "            \n",
    "        return chunk_paths\n",
    "\n",
    "# Example usage\n",
    "splitter = CSVSplitter(\"/Users/yuanlu/Code/youtube-top-10000-channels/data/wait_to_combine/handle_empty_wait_to_check.csv\", chunk_size=14000)\n",
    "output_files = splitter.split()\n",
    "print(f\"Split into {len(output_files)} files:\")\n",
    "for f in output_files:\n",
    "    print(f\"- {f}\")\n",
    "\n"
   ]
  }
 ],
 "metadata": {
  "kernelspec": {
   "display_name": "omega",
   "language": "python",
   "name": "python3"
  },
  "language_info": {
   "codemirror_mode": {
    "name": "ipython",
    "version": 3
   },
   "file_extension": ".py",
   "mimetype": "text/x-python",
   "name": "python",
   "nbconvert_exporter": "python",
   "pygments_lexer": "ipython3",
   "version": "3.12.4"
  }
 },
 "nbformat": 4,
 "nbformat_minor": 2
}
