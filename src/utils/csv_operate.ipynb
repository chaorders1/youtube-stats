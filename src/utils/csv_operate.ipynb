{
 "cells": [
  {
   "cell_type": "code",
   "execution_count": 1,
   "metadata": {},
   "outputs": [
    {
     "name": "stdout",
     "output_type": "stream",
     "text": [
      "Split into 4 files:\n",
      "- youtube_channel_urls_web_part1.csv\n",
      "- youtube_channel_urls_web_part2.csv\n",
      "- youtube_channel_urls_web_part3.csv\n",
      "- youtube_channel_urls_web_part4.csv\n"
     ]
    }
   ],
   "source": [
    "import pandas as pd\n",
    "from pathlib import Path\n",
    "\n",
    "class CSVSplitter:\n",
    "    \"\"\"\n",
    "    A class to split large CSV files into smaller chunks while preserving headers.\n",
    "    \"\"\"\n",
    "    \n",
    "    def __init__(self, input_file: str, chunk_size: int = 10000):\n",
    "        \"\"\"\n",
    "        Initialize the CSV splitter.\n",
    "        \n",
    "        Args:\n",
    "            input_file (str): Path to the input CSV file\n",
    "            chunk_size (int): Number of rows per output file (excluding header)\n",
    "        \"\"\"\n",
    "        self.input_file = Path(input_file)\n",
    "        self.chunk_size = chunk_size\n",
    "        \n",
    "        if not self.input_file.exists():\n",
    "            raise FileNotFoundError(f\"Input file not found: {self.input_file}\")\n",
    "            \n",
    "    def split(self) -> list[Path]:\n",
    "        \"\"\"\n",
    "        Split the CSV file into chunks.\n",
    "        \n",
    "        Returns:\n",
    "            list[Path]: List of paths to the generated chunk files\n",
    "        \"\"\"\n",
    "        # Read CSV in chunks\n",
    "        chunk_paths = []\n",
    "        for i, chunk in enumerate(pd.read_csv(self.input_file, chunksize=self.chunk_size)):\n",
    "            # Generate output filename\n",
    "            output_path = self.input_file.parent / f\"{self.input_file.stem}_part{i+1}{self.input_file.suffix}\"\n",
    "            \n",
    "            # Save chunk with header\n",
    "            chunk.to_csv(output_path, index=False)\n",
    "            chunk_paths.append(output_path)\n",
    "            \n",
    "        return chunk_paths\n",
    "\n",
    "# Example usage\n",
    "splitter = CSVSplitter(\"youtube_channel_urls_web.csv\", chunk_size=50000)\n",
    "output_files = splitter.split()\n",
    "print(f\"Split into {len(output_files)} files:\")\n",
    "for f in output_files:\n",
    "    print(f\"- {f}\")\n",
    "\n"
   ]
  },
  {
   "cell_type": "code",
   "execution_count": 15,
   "metadata": {},
   "outputs": [],
   "source": [
    "import pandas as pd\n",
    "from pathlib import Path"
   ]
  },
  {
   "cell_type": "code",
   "execution_count": 16,
   "metadata": {},
   "outputs": [
    {
     "name": "stdout",
     "output_type": "stream",
     "text": [
      "Combined CSV files into: /Users/yuanlu/Code/youtube-top-10000-channels/data/wait_to_combine/combined_output.csv\n"
     ]
    }
   ],
   "source": [
    "# we are using the notebook. Combine all the csv files from one folder into a new one. They have the same structure and columns.\n",
    "class CSVCombiner:\n",
    "    \"\"\"\n",
    "    A class to combine multiple CSV files with the same structure into a single file.\n",
    "    \"\"\"\n",
    "    \n",
    "    def __init__(self, input_dir: str, output_file: str):\n",
    "        \"\"\"\n",
    "        Initialize the CSV combiner.\n",
    "        \n",
    "        Args:\n",
    "            input_dir (str): Directory containing CSV files to combine\n",
    "            output_file (str): Path for the output combined CSV file\n",
    "        \"\"\"\n",
    "        self.input_dir = Path(input_dir)\n",
    "        self.output_file = Path(output_file)\n",
    "        \n",
    "        if not self.input_dir.exists():\n",
    "            raise FileNotFoundError(f\"Input directory not found: {self.input_dir}\")\n",
    "            \n",
    "    def combine(self) -> Path:\n",
    "        \"\"\"\n",
    "        Combine CSV files from input directory into a single file.\n",
    "        \n",
    "        Returns:\n",
    "            Path: Path to the combined output file\n",
    "        \"\"\"\n",
    "        # Get list of CSV files\n",
    "        csv_files = list(self.input_dir.glob(\"*.csv\"))\n",
    "        if not csv_files:\n",
    "            raise ValueError(f\"No CSV files found in {self.input_dir}\")\n",
    "            \n",
    "        # Read and combine all CSV files\n",
    "        dfs = []\n",
    "        for file in csv_files:\n",
    "            df = pd.read_csv(file)\n",
    "            dfs.append(df)\n",
    "            \n",
    "        # Concatenate all dataframes\n",
    "        combined_df = pd.concat(dfs, ignore_index=True)\n",
    "        \n",
    "        # Save combined dataframe\n",
    "        combined_df.to_csv(self.output_file, index=False)\n",
    "        \n",
    "        return self.output_file\n",
    "\n",
    "# Example usage\n",
    "combiner = CSVCombiner(\"/Users/yuanlu/Code/youtube-top-10000-channels/data/wait_to_combine\", \"/Users/yuanlu/Code/youtube-top-10000-channels/data/wait_to_combine/combined_output.csv\")\n",
    "output_file = combiner.combine()\n",
    "print(f\"Combined CSV files into: {output_file}\")\n"
   ]
  },
  {
   "cell_type": "code",
   "execution_count": 28,
   "metadata": {},
   "outputs": [],
   "source": [
    "df = pd.read_csv(\"/Users/yuanlu/Code/youtube-top-10000-channels/data/wait_to_combine/combined_output.csv\")"
   ]
  },
  {
   "cell_type": "code",
   "execution_count": 29,
   "metadata": {},
   "outputs": [
    {
     "name": "stdout",
     "output_type": "stream",
     "text": [
      "Total number of rows: 155976\n",
      "Number of rows where handle is not empty: 129147\n"
     ]
    }
   ],
   "source": [
    "#how many rows we have in total\n",
    "print(f\"Total number of rows: {len(df)}\")\n",
    "\n",
    "#how many rows we have in total where handle is not empty\n",
    "print(f\"Number of rows where handle is not empty: {len(df[df['handle'].notna()])}\")"
   ]
  },
  {
   "cell_type": "code",
   "execution_count": 30,
   "metadata": {},
   "outputs": [],
   "source": [
    "# create a new csv file with only the rows where handle is not empty\n",
    "df[df['handle'].notna()].to_csv(\"/Users/yuanlu/Code/youtube-top-10000-channels/data/wait_to_combine/handle_not_empty.csv\", index=False)\n"
   ]
  },
  {
   "cell_type": "code",
   "execution_count": 19,
   "metadata": {},
   "outputs": [],
   "source": [
    "# create a new csv file with only the rows where handle is empty\n",
    "df[df['handle'].isna()].to_csv(\"/Users/yuanlu/Code/youtube-top-10000-channels/data/wait_to_combine/handle_empty.csv\", index=False)\n",
    "\n"
   ]
  },
  {
   "cell_type": "code",
   "execution_count": 21,
   "metadata": {},
   "outputs": [],
   "source": [
    "df = pd.read_csv(\"/Users/yuanlu/Code/youtube-top-10000-channels/data/wait_to_combine/handle_empty.csv\")"
   ]
  },
  {
   "cell_type": "code",
   "execution_count": 23,
   "metadata": {},
   "outputs": [
    {
     "name": "stdout",
     "output_type": "stream",
     "text": [
      "Total number of rows: 26829\n",
      "Number of rows where subscribers is not empty: 26829\n"
     ]
    }
   ],
   "source": [
    "#for this df, how many rows we have in total\n",
    "print(f\"Total number of rows: {len(df)}\")\n",
    "\n",
    "#how many rows we have in total where subscribers is not empty\n",
    "print(f\"Number of rows where subscribers is not empty: {len(df[df['subscribers'].notna()])}\")\n",
    "\n"
   ]
  },
  {
   "cell_type": "code",
   "execution_count": 26,
   "metadata": {},
   "outputs": [],
   "source": [
    "#only leave Youtube_Channel_URL column content, delete the others column content. Keep the header\n",
    "df = df[['Youtube_Channel_URL']]\n",
    "df.to_csv(\"/Users/yuanlu/Code/youtube-top-10000-channels/data/wait_to_combine/handle_empty_wait_to_check.csv\", index=False)\n"
   ]
  }
 ],
 "metadata": {
  "kernelspec": {
   "display_name": "omega",
   "language": "python",
   "name": "python3"
  },
  "language_info": {
   "codemirror_mode": {
    "name": "ipython",
    "version": 3
   },
   "file_extension": ".py",
   "mimetype": "text/x-python",
   "name": "python",
   "nbconvert_exporter": "python",
   "pygments_lexer": "ipython3",
   "version": "3.12.4"
  }
 },
 "nbformat": 4,
 "nbformat_minor": 2
}
