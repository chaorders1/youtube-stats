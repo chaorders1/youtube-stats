{
 "cells": [
  {
   "cell_type": "markdown",
   "metadata": {},
   "source": [
    "This script is used to clean the database."
   ]
  },
  {
   "cell_type": "code",
   "execution_count": 26,
   "metadata": {},
   "outputs": [
    {
     "name": "stdout",
     "output_type": "stream",
     "text": [
      "Tables in database:\n",
      "- combined_data\n",
      "- unique_youtube_channel_urls\n"
     ]
    }
   ],
   "source": [
    "import sqlite3\n",
    "import pandas as pd\n",
    "\n",
    "# Connect to the database\n",
    "db_path = '/Users/yuanlu/Code/test/youtube-top-10000-channels/data/output-raw.db'\n",
    "conn = sqlite3.connect(db_path)\n",
    "\n",
    "# Print tables in database\n",
    "cursor = conn.cursor()\n",
    "cursor.execute(\"SELECT name FROM sqlite_master WHERE type='table';\")\n",
    "tables = cursor.fetchall()\n",
    "print(\"Tables in database:\")\n",
    "for table in tables:\n",
    "    print(f\"- {table[0]}\")\n"
   ]
  },
  {
   "cell_type": "code",
   "execution_count": 27,
   "metadata": {
    "vscode": {
     "languageId": "sql"
    }
   },
   "outputs": [
    {
     "name": "stdout",
     "output_type": "stream",
     "text": [
      "Size of combined_data table: 1,176,396 rows\n"
     ]
    }
   ],
   "source": [
    "# Get size of combined_data table\n",
    "cursor.execute(\"SELECT COUNT(*) FROM combined_data\")\n",
    "row_count = cursor.fetchone()[0]\n",
    "print(f\"Size of combined_data table: {row_count:,} rows\")\n"
   ]
  },
  {
   "cell_type": "code",
   "execution_count": 28,
   "metadata": {
    "vscode": {
     "languageId": "sql"
    }
   },
   "outputs": [
    {
     "name": "stdout",
     "output_type": "stream",
     "text": [
      "Number of unique youtube_channel_urls: 42437\n"
     ]
    }
   ],
   "source": [
    "cursor.execute(\"SELECT COUNT(DISTINCT youtube_channel_url) FROM combined_data\")\n",
    "unique_count = cursor.fetchone()[0]\n",
    "print(f\"Number of unique youtube_channel_urls: {unique_count}\")"
   ]
  },
  {
   "cell_type": "code",
   "execution_count": 29,
   "metadata": {
    "vscode": {
     "languageId": "sql"
    }
   },
   "outputs": [
    {
     "name": "stdout",
     "output_type": "stream",
     "text": [
      "Percentage of unique youtube_channel_urls: 3.61%\n"
     ]
    }
   ],
   "source": [
    "# Percentage of unique youtube_channel_urls\n",
    "print(f\"Percentage of unique youtube_channel_urls: {unique_count / row_count * 100:.2f}%\")\n"
   ]
  },
  {
   "cell_type": "code",
   "execution_count": 24,
   "metadata": {
    "vscode": {
     "languageId": "sql"
    }
   },
   "outputs": [],
   "source": [
    "# Drop the unique_youtube_channel_urls table if it exists\n",
    "with sqlite3.connect(db_path) as conn:\n",
    "    cursor = conn.cursor()\n",
    "    cursor.execute(\"DROP TABLE IF EXISTS unique_youtube_channel_urls\")\n",
    "    conn.commit()"
   ]
  },
  {
   "cell_type": "code",
   "execution_count": 25,
   "metadata": {
    "vscode": {
     "languageId": "sql"
    }
   },
   "outputs": [],
   "source": [
    "# Create a new table with unique youtube_channel_urls, it should have the same columns as combined_data. Make sure youtube_channel_url is unique.\n",
    "with sqlite3.connect(db_path) as conn:\n",
    "    cursor = conn.cursor()\n",
    "    cursor.execute(\"\"\"\n",
    "        CREATE TABLE unique_youtube_channel_urls AS \n",
    "        SELECT *\n",
    "        FROM combined_data\n",
    "        GROUP BY youtube_channel_url\n",
    "    \"\"\")\n",
    "    conn.commit()"
   ]
  },
  {
   "cell_type": "code",
   "execution_count": 31,
   "metadata": {},
   "outputs": [
    {
     "name": "stdout",
     "output_type": "stream",
     "text": [
      "Tables in database:\n",
      "- combined_data\n",
      "- unique_youtube_channel_urls\n"
     ]
    }
   ],
   "source": [
    "import sqlite3\n",
    "import pandas as pd\n",
    "\n",
    "# Connect to the database\n",
    "db_path = '/Users/yuanlu/Code/test/youtube-top-10000-channels/data/output-edit.db'\n",
    "conn = sqlite3.connect(db_path)\n",
    "\n",
    "# Print tables in database\n",
    "cursor = conn.cursor()\n",
    "cursor.execute(\"SELECT name FROM sqlite_master WHERE type='table';\")\n",
    "tables = cursor.fetchall()\n",
    "print(\"Tables in database:\")\n",
    "for table in tables:\n",
    "    print(f\"- {table[0]}\")\n"
   ]
  },
  {
   "cell_type": "code",
   "execution_count": 32,
   "metadata": {},
   "outputs": [],
   "source": [
    "# delete combined_data table\n",
    "cursor.execute(\"DROP TABLE IF EXISTS combined_data\")\n",
    "conn.commit()\n"
   ]
  },
  {
   "cell_type": "code",
   "execution_count": 38,
   "metadata": {},
   "outputs": [
    {
     "name": "stdout",
     "output_type": "stream",
     "text": [
      "Tables in database:\n",
      "- unique_youtube_channel_urls\n"
     ]
    }
   ],
   "source": [
    "import sqlite3\n",
    "import pandas as pd\n",
    "\n",
    "# Connect to the database\n",
    "db_path = '/Users/yuanlu/Code/test/youtube-top-10000-channels/data/output-edit.db'\n",
    "conn = sqlite3.connect(db_path)\n",
    "\n",
    "# Print tables in database\n",
    "cursor = conn.cursor()\n",
    "cursor.execute(\"SELECT name FROM sqlite_master WHERE type='table';\")\n",
    "tables = cursor.fetchall()\n",
    "print(\"Tables in database:\")\n",
    "for table in tables:\n",
    "    print(f\"- {table[0]}\")\n"
   ]
  },
  {
   "cell_type": "code",
   "execution_count": 39,
   "metadata": {},
   "outputs": [
    {
     "name": "stdout",
     "output_type": "stream",
     "text": [
      "Number of rows with bad url_verified_status: 36314\n"
     ]
    }
   ],
   "source": [
    "# check if url_verified_status value is bad\n",
    "cursor.execute(\"SELECT COUNT(*) FROM unique_youtube_channel_urls WHERE url_verified_status = 'bad'\")\n",
    "bad_count = cursor.fetchone()[0]\n",
    "print(f\"Number of rows with bad url_verified_status: {bad_count}\")\n"
   ]
  },
  {
   "cell_type": "code",
   "execution_count": 40,
   "metadata": {},
   "outputs": [
    {
     "name": "stdout",
     "output_type": "stream",
     "text": [
      "Number of rows with good url_verified_status: 6123\n"
     ]
    }
   ],
   "source": [
    "# check if url_verified_status value is good\n",
    "cursor.execute(\"SELECT COUNT(*) FROM unique_youtube_channel_urls WHERE url_verified_status = 'good'\")\n",
    "good_count = cursor.fetchone()[0]\n",
    "print(f\"Number of rows with good url_verified_status: {good_count}\")\n"
   ]
  },
  {
   "cell_type": "code",
   "execution_count": 42,
   "metadata": {},
   "outputs": [
    {
     "name": "stdout",
     "output_type": "stream",
     "text": [
      "\n",
      "Accessibility message values and counts:\n",
      "- HTTP 204: 29337\n",
      "- Channel not found: 6863\n",
      "- Accessible: 6119\n",
      "- Request error: HTTPSConnectionPool(host='www.youtube.com', port=443): Max retries exceeded with url: /@nrkp3 (Caused by ReadTimeoutError(\"HTTPSConnectionPool(host='www.youtube.com', port=443): Read timed out. (read timeout=3)\")): 1\n"
     ]
    }
   ],
   "source": [
    "# Get distinct accessibility_message values and their counts\n",
    "cursor.execute(\"\"\"\n",
    "    SELECT accessibility_message, COUNT(*) as count \n",
    "    FROM unique_youtube_channel_urls \n",
    "    WHERE accessibility_message IS NOT NULL\n",
    "    GROUP BY accessibility_message\n",
    "    ORDER BY count DESC\n",
    "\"\"\")\n",
    "results = cursor.fetchall()\n",
    "\n",
    "print(\"\\nAccessibility message values and counts:\")\n",
    "for message, count in results:\n",
    "    print(f\"- {message}: {count}\")\n",
    "\n"
   ]
  }
 ],
 "metadata": {
  "kernelspec": {
   "display_name": "omega",
   "language": "python",
   "name": "python3"
  },
  "language_info": {
   "codemirror_mode": {
    "name": "ipython",
    "version": 3
   },
   "file_extension": ".py",
   "mimetype": "text/x-python",
   "name": "python",
   "nbconvert_exporter": "python",
   "pygments_lexer": "ipython3",
   "version": "3.12.4"
  }
 },
 "nbformat": 4,
 "nbformat_minor": 2
}
