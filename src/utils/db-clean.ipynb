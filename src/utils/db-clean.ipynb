{
 "cells": [
  {
   "cell_type": "markdown",
   "metadata": {},
   "source": [
    "## This script is used to clean the database. Do not run if you don't know what you are doing."
   ]
  },
  {
   "cell_type": "code",
   "execution_count": 1,
   "metadata": {},
   "outputs": [
    {
     "name": "stdout",
     "output_type": "stream",
     "text": [
      "Tables in database:\n",
      "- unique_youtube_channel_urls\n"
     ]
    }
   ],
   "source": [
    "import sqlite3\n",
    "import pandas as pd\n",
    "\n",
    "# Connect to the database\n",
    "db_path = '/Users/yuanlu/Code/youtube-top-10000-channels/data/videoamigo-processed.db'\n",
    "conn = sqlite3.connect(db_path)\n",
    "\n",
    "# Print tables in database\n",
    "cursor = conn.cursor()\n",
    "cursor.execute(\"SELECT name FROM sqlite_master WHERE type='table';\")\n",
    "tables = cursor.fetchall()\n",
    "print(\"Tables in database:\")\n",
    "for table in tables:\n",
    "    print(f\"- {table[0]}\")\n"
   ]
  },
  {
   "cell_type": "code",
   "execution_count": 3,
   "metadata": {},
   "outputs": [
    {
     "name": "stdout",
     "output_type": "stream",
     "text": [
      "Column names in unique_youtube_channel_urls table: ['Channel_Handle', 'Channel_ID', 'Subscribers', 'YouTube_Channel_URL']\n"
     ]
    }
   ],
   "source": [
    "# get column names\n",
    "cursor.execute(\"PRAGMA table_info(unique_youtube_channel_urls)\")\n",
    "column_names = [row[1] for row in cursor.fetchall()]\n",
    "print(f\"Column names in unique_youtube_channel_urls table: {column_names}\")\n"
   ]
  },
  {
   "cell_type": "code",
   "execution_count": 4,
   "metadata": {},
   "outputs": [],
   "source": [
    "# Get Youtube_Channel_URL column from unique_youtube_channel_urls table and save it to a csv file\n",
    "cursor.execute(\"SELECT Youtube_Channel_URL FROM unique_youtube_channel_urls\")\n",
    "youtube_channel_urls = cursor.fetchall()\n",
    "df = pd.DataFrame(youtube_channel_urls, columns=[\"Youtube_Channel_URL\"])\n",
    "df.to_csv(\"youtube_channel_urls.csv\", index=False)\n"
   ]
  },
  {
   "cell_type": "code",
   "execution_count": null,
   "metadata": {},
   "outputs": [],
   "source": []
  },
  {
   "cell_type": "code",
   "execution_count": 29,
   "metadata": {},
   "outputs": [
    {
     "name": "stdout",
     "output_type": "stream",
     "text": [
      "Size of combined_data table: 4,935,482 rows\n"
     ]
    }
   ],
   "source": [
    "# Get size of combined_data table\n",
    "cursor.execute(\"SELECT COUNT(*) FROM combined_data\")\n",
    "row_count = cursor.fetchone()[0]\n",
    "print(f\"Size of combined_data table: {row_count:,} rows\")\n"
   ]
  },
  {
   "cell_type": "code",
   "execution_count": 30,
   "metadata": {},
   "outputs": [
    {
     "name": "stdout",
     "output_type": "stream",
     "text": [
      "Number of unique YouTube_Channel_URL: 155976\n"
     ]
    }
   ],
   "source": [
    "# Get number of unique YouTube_Channel_URL\n",
    "cursor.execute(\"SELECT COUNT(DISTINCT Youtube_Channel_URL) FROM combined_data\")\n",
    "unique_count = cursor.fetchone()[0]\n",
    "print(f\"Number of unique YouTube_Channel_URL: {unique_count}\")"
   ]
  },
  {
   "cell_type": "code",
   "execution_count": 32,
   "metadata": {},
   "outputs": [
    {
     "name": "stdout",
     "output_type": "stream",
     "text": [
      "Percentage of unique youtube_channel_urls: 3.16%\n"
     ]
    }
   ],
   "source": [
    "# Percentage of unique youtube_channel_urls\n",
    "print(f\"Percentage of unique youtube_channel_urls: {unique_count / row_count * 100:.2f}%\")\n"
   ]
  },
  {
   "cell_type": "code",
   "execution_count": 33,
   "metadata": {},
   "outputs": [],
   "source": [
    "# Drop the unique_youtube_channel_urls table if it exists\n",
    "with sqlite3.connect(db_path) as conn:\n",
    "    cursor = conn.cursor()\n",
    "    cursor.execute(\"DROP TABLE IF EXISTS unique_youtube_channel_urls\")\n",
    "    conn.commit()"
   ]
  },
  {
   "cell_type": "code",
   "execution_count": 34,
   "metadata": {},
   "outputs": [],
   "source": [
    "# Create a new table with unique youtube_channel_urls, it should have the same columns as combined_data. Make sure youtube_channel_url is unique.\n",
    "with sqlite3.connect(db_path) as conn:\n",
    "    cursor = conn.cursor()\n",
    "    cursor.execute(\"\"\"\n",
    "        CREATE TABLE unique_youtube_channel_urls AS \n",
    "        SELECT *\n",
    "        FROM combined_data\n",
    "        GROUP BY youtube_channel_url\n",
    "    \"\"\")\n",
    "    conn.commit()"
   ]
  },
  {
   "cell_type": "markdown",
   "metadata": {},
   "source": [
    "## unique_youtube_channel_urls table"
   ]
  },
  {
   "cell_type": "code",
   "execution_count": 37,
   "metadata": {},
   "outputs": [],
   "source": [
    "#  Connect to unique_youtube_channel_urls table\n",
    "conn = sqlite3.connect(db_path)\n",
    "cursor = conn.cursor()\n"
   ]
  },
  {
   "cell_type": "code",
   "execution_count": 38,
   "metadata": {},
   "outputs": [
    {
     "name": "stdout",
     "output_type": "stream",
     "text": [
      "Size of unique_youtube_channel_urls table: 155,976 rows\n"
     ]
    }
   ],
   "source": [
    "# Get size of unique_youtube_channel_urls table\n",
    "cursor.execute(\"SELECT COUNT(*) FROM unique_youtube_channel_urls\")\n",
    "row_count = cursor.fetchone()[0]\n",
    "print(f\"Size of unique_youtube_channel_urls table: {row_count:,} rows\")\n"
   ]
  },
  {
   "cell_type": "code",
   "execution_count": 39,
   "metadata": {},
   "outputs": [],
   "source": [
    "# drop combined_data table\n",
    "with sqlite3.connect(db_path) as conn:\n",
    "    cursor = conn.cursor()\n",
    "    cursor.execute(\"DROP TABLE combined_data\")\n",
    "    conn.commit()"
   ]
  },
  {
   "cell_type": "code",
   "execution_count": 40,
   "metadata": {},
   "outputs": [],
   "source": [
    "# in the table unique_youtube_channel_urls, drop the columns called \"Rank\", \"source_file\"\n",
    "with sqlite3.connect(db_path) as conn:\n",
    "    cursor = conn.cursor()\n",
    "    cursor.execute(\"ALTER TABLE unique_youtube_channel_urls DROP COLUMN Rank\")\n",
    "    cursor.execute(\"ALTER TABLE unique_youtube_channel_urls DROP COLUMN source_file\")\n",
    "    conn.commit()\n"
   ]
  },
  {
   "cell_type": "code",
   "execution_count": 41,
   "metadata": {},
   "outputs": [
    {
     "name": "stdout",
     "output_type": "stream",
     "text": [
      "Number of rows in unique_youtube_channel_urls that start with https://www.youtube.com/channel/: 120387\n"
     ]
    }
   ],
   "source": [
    "# how many rows in unique_youtube_channel_urls have Youtube_Channel_URL start with https://www.youtube.com/channel/UC\n",
    "cursor.execute(\"SELECT COUNT(*) FROM unique_youtube_channel_urls WHERE Youtube_Channel_URL LIKE 'https://www.youtube.com/channel/%'\")\n",
    "rows_start_with_uc = cursor.fetchone()[0]\n",
    "print(f\"Number of rows in unique_youtube_channel_urls that start with https://www.youtube.com/channel/: {rows_start_with_uc}\")\n"
   ]
  },
  {
   "cell_type": "code",
   "execution_count": 42,
   "metadata": {},
   "outputs": [
    {
     "name": "stdout",
     "output_type": "stream",
     "text": [
      "Number of rows in unique_youtube_channel_urls that do not start with https://www.youtube.com/channel/: 35589\n"
     ]
    }
   ],
   "source": [
    "# how many rows in unique_youtube_channel_urls have Youtube_Channel_URL not start with https://www.youtube.com/channel/UC\n",
    "cursor.execute(\"SELECT COUNT(*) FROM unique_youtube_channel_urls WHERE Youtube_Channel_URL NOT LIKE 'https://www.youtube.com/channel/%'\")\n",
    "rows_not_start_with_uc = cursor.fetchone()[0]\n",
    "print(f\"Number of rows in unique_youtube_channel_urls that do not start with https://www.youtube.com/channel/: {rows_not_start_with_uc}\")\n"
   ]
  },
  {
   "cell_type": "code",
   "execution_count": 44,
   "metadata": {},
   "outputs": [
    {
     "name": "stdout",
     "output_type": "stream",
     "text": [
      "Remaining rows with incorrect URL format: 17374\n"
     ]
    }
   ],
   "source": [
    "# Update URLs for rows where channel_id is valid (22 characters) but URL format is incorrect\n",
    "with sqlite3.connect(db_path) as conn:\n",
    "    cursor = conn.cursor()\n",
    "    cursor.execute(\"\"\"\n",
    "        UPDATE unique_youtube_channel_urls\n",
    "        SET Youtube_Channel_URL = 'https://www.youtube.com/channel/UC' || channel_id\n",
    "        WHERE Youtube_Channel_URL NOT LIKE 'https://www.youtube.com/channel/%'\n",
    "        AND length(channel_id) = 22\n",
    "    \"\"\")\n",
    "    conn.commit()\n",
    "\n",
    "# Verify the changes\n",
    "cursor.execute(\"SELECT COUNT(*) FROM unique_youtube_channel_urls WHERE Youtube_Channel_URL NOT LIKE 'https://www.youtube.com/channel/%'\")\n",
    "remaining_incorrect = cursor.fetchone()[0]\n",
    "print(f\"Remaining rows with incorrect URL format: {remaining_incorrect}\")"
   ]
  },
  {
   "cell_type": "code",
   "execution_count": 45,
   "metadata": {},
   "outputs": [
    {
     "name": "stdout",
     "output_type": "stream",
     "text": [
      "Top 10 rows with the most characters in Channel_Handle where Youtube_Channel_URL starts with https://www.youtube.com/@:\n",
      "('à¸„à¸£à¸\\xadà¸šà¸„à¸£à¸±à¸§à¸‚à¹ˆà¸²à¸§3', 'à¸„à¸£à¸\\xadà¸šà¸„à¸£à¸±à¸§à¸‚à¹ˆà¸²à¸§3', 2570000, 'https://www.youtube.com/@à¸„à¸£à¸\\xadà¸šà¸„à¸£à¸±à¸§à¸‚à¹ˆà¸²à¸§3')\n",
      "('Amazon Prime Video India', 'Amazon Prime Video India', 25300000, 'https://www.youtube.com/@Amazon Prime Video India')\n",
      "('Friedrich-Ebert-Stiftung', 'Friedrich-Ebert-Stiftung', 18900, 'https://www.youtube.com/@Friedrich-Ebert-Stiftung')\n",
      "('Pravoslavlje_Orthodox', 'Pravoslavlje_Orthodox', 20900, 'https://www.youtube.com/@Pravoslavlje_Orthodox')\n",
      "('2010floridastatefair', '2010floridastatefair', 54, 'https://www.youtube.com/@2010floridastatefair')\n",
      "('20thcenturyfoxfrance', '20thcenturyfoxfrance', 345000, 'https://www.youtube.com/@20thcenturyfoxfrance')\n",
      "('925thebeatofmontreal', '925thebeatofmontreal', 2990, 'https://www.youtube.com/@925thebeatofmontreal')\n",
      "('AASchoolArchitecture', 'AASchoolArchitecture', 57300, 'https://www.youtube.com/@AASchoolArchitecture')\n",
      "('ALLENCareerInstitute', 'ALLENCareerInstitute', 1740000, 'https://www.youtube.com/@ALLENCareerInstitute')\n",
      "('AdrenalinWatersports', 'AdrenalinWatersports', 129, 'https://www.youtube.com/@AdrenalinWatersports')\n"
     ]
    }
   ],
   "source": [
    "# for the rows in unique_youtube_channel_urls have Youtube_Channel_URL start with https://www.youtube.com/@, find the top 10 with the most characters in Channel_Handle\n",
    "cursor.execute(\"SELECT * FROM unique_youtube_channel_urls WHERE Youtube_Channel_URL LIKE 'https://www.youtube.com/@%' ORDER BY LENGTH(Channel_Handle) DESC LIMIT 10\")\n",
    "top_10_with_most_characters = cursor.fetchall()\n",
    "print(f\"Top 10 rows with the most characters in Channel_Handle where Youtube_Channel_URL starts with https://www.youtube.com/@:\")\n",
    "for row in top_10_with_most_characters:\n",
    "    print(row)"
   ]
  },
  {
   "cell_type": "code",
   "execution_count": 47,
   "metadata": {},
   "outputs": [
    {
     "name": "stdout",
     "output_type": "stream",
     "text": [
      "Number of rows with subscribers less than 100: 17530\n"
     ]
    }
   ],
   "source": [
    "# how many rows have subscribers less than 100?\n",
    "cursor.execute(\"SELECT COUNT(*) FROM unique_youtube_channel_urls WHERE Subscribers < 100\")\n",
    "subscribers_less_than_100 = cursor.fetchone()[0]\n",
    "print(f\"Number of rows with subscribers less than 100: {subscribers_less_than_100}\")\n"
   ]
  },
  {
   "cell_type": "code",
   "execution_count": 48,
   "metadata": {},
   "outputs": [
    {
     "name": "stdout",
     "output_type": "stream",
     "text": [
      "Number of rows with subscribers less than 10: 5484\n"
     ]
    }
   ],
   "source": [
    "# how many rows have subscribers less than 10?\n",
    "cursor.execute(\"SELECT COUNT(*) FROM unique_youtube_channel_urls WHERE Subscribers < 10\")\n",
    "subscribers_less_than_10 = cursor.fetchone()[0]\n",
    "print(f\"Number of rows with subscribers less than 10: {subscribers_less_than_10}\")"
   ]
  }
 ],
 "metadata": {
  "kernelspec": {
   "display_name": "omega",
   "language": "python",
   "name": "python3"
  },
  "language_info": {
   "codemirror_mode": {
    "name": "ipython",
    "version": 3
   },
   "file_extension": ".py",
   "mimetype": "text/x-python",
   "name": "python",
   "nbconvert_exporter": "python",
   "pygments_lexer": "ipython3",
   "version": "3.12.4"
  }
 },
 "nbformat": 4,
 "nbformat_minor": 2
}
